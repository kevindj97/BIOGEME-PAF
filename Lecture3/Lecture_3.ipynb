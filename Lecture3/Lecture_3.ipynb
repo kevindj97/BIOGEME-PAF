{
 "cells": [
  {
   "cell_type": "markdown",
   "id": "8564afea",
   "metadata": {},
   "source": [
    "# BIOGEME\n",
    "1. Installation and libraries imports\n",
    "2. Cleaning the data and defining variables\n",
    "3. Binary Logit model"
   ]
  },
  {
   "cell_type": "markdown",
   "id": "9cb197c8",
   "metadata": {},
   "source": [
    "# 1. Installation and libraries imports"
   ]
  },
  {
   "cell_type": "code",
   "execution_count": null,
   "id": "2021ab5c",
   "metadata": {},
   "outputs": [],
   "source": [
    "pip install biogeme"
   ]
  },
  {
   "cell_type": "code",
   "execution_count": null,
   "id": "1c171766",
   "metadata": {},
   "outputs": [],
   "source": [
    "#check BIOGEME version\n",
    "import biogeme.version as ver\n",
    "print(\"Biogeme version:\", ver.getVersion())\n",
    "\n",
    "#Import necessary libraries\n",
    "import pandas as pd\n",
    "import biogeme.database as db\n",
    "import biogeme.biogeme as bio\n",
    "from biogeme import models\n",
    "from biogeme.expressions import Beta, Variable"
   ]
  },
  {
   "cell_type": "markdown",
   "id": "41f924cb",
   "metadata": {},
   "source": [
    "# 2. Cleaning the data and defining variables"
   ]
  },
  {
   "cell_type": "markdown",
   "id": "6fb84f42",
   "metadata": {},
   "source": [
    "**Important!: All data have to be numeric**"
   ]
  },
  {
   "cell_type": "code",
   "execution_count": null,
   "id": "62734f4e",
   "metadata": {},
   "outputs": [],
   "source": [
    "# Load the database\n",
    "df = pd.read_csv(\"ModeChoiceData_RP.csv\", sep=',') # Check the path to your CSV file"
   ]
  },
  {
   "cell_type": "code",
   "execution_count": null,
   "id": "12d4fbe3",
   "metadata": {},
   "outputs": [],
   "source": [
    "# Load the database\n",
    "df"
   ]
  },
  {
   "cell_type": "code",
   "execution_count": null,
   "id": "8e470c52",
   "metadata": {},
   "outputs": [],
   "source": [
    "# Check missing values\n",
    "print(df.isnull().sum())"
   ]
  },
  {
   "cell_type": "code",
   "execution_count": null,
   "id": "e142104c",
   "metadata": {},
   "outputs": [],
   "source": [
    "# Drop columns with missing values\n",
    "## df = df.drop(columns=[\"SP_task\"])\n",
    "# Or, set the missing values to -1\n",
    "df = df.fillna(-1)\n",
    "print(df.isnull().sum())\n",
    "\n",
    "# Create a row index\n",
    "df[\"RowID\"] = df.index + 1\n",
    "df"
   ]
  },
  {
   "cell_type": "code",
   "execution_count": null,
   "id": "b93b1ae3",
   "metadata": {},
   "outputs": [],
   "source": [
    "# Define the BIOGEME-specific database\n",
    "database = db.Database(\"ModeChoice\", df)\n",
    "#print the BIOGEME-specific database\n",
    "database.data"
   ]
  },
  {
   "cell_type": "code",
   "execution_count": null,
   "id": "c7fd0b5b",
   "metadata": {},
   "outputs": [],
   "source": [
    "\"\"\"\n",
    "Use the loop below to get all of columns names.\n",
    "for col in df.columns:\n",
    "    print(f'{col} = Variable(\"{col}\")')\n",
    "\n",
    "1. The code will generate the Variable for each column.    \n",
    "2. Copy the output and paste it below to define the variables.\n",
    "\"\"\"\n",
    "for col in df.columns:\n",
    "    print(f'{col} = Variable(\"{col}\")')\n"
   ]
  },
  {
   "cell_type": "code",
   "execution_count": null,
   "id": "73308bf1",
   "metadata": {},
   "outputs": [],
   "source": [
    "#Define the variables\n",
    "ID = Variable(\"ID\")\n",
    "RP = Variable(\"RP\")\n",
    "SP = Variable(\"SP\")\n",
    "RP_journey = Variable(\"RP_journey\")\n",
    "av_car = Variable(\"av_car\")\n",
    "av_rail = Variable(\"av_rail\")\n",
    "time_car = Variable(\"time_car\")\n",
    "cost_car = Variable(\"cost_car\")\n",
    "time_rail = Variable(\"time_rail\")\n",
    "cost_rail = Variable(\"cost_rail\")\n",
    "business = Variable(\"business\")\n",
    "access_rail = Variable(\"access_rail\")\n",
    "service_rail = Variable(\"service_rail\")\n",
    "female = Variable(\"female\")\n",
    "income = Variable(\"income\")\n",
    "choice = Variable(\"choice\")"
   ]
  },
  {
   "cell_type": "markdown",
   "id": "01af878a",
   "metadata": {},
   "source": [
    "# 3. Binary Logit Model"
   ]
  },
  {
   "cell_type": "markdown",
   "id": "50ff0f3a",
   "metadata": {},
   "source": [
    "\n",
    "#### Model A"
   ]
  },
  {
   "cell_type": "code",
   "execution_count": null,
   "id": "e31bf94c",
   "metadata": {},
   "outputs": [],
   "source": [
    "# Define beta values to be estimated\n",
    "## Beta('name', initial value, lower bound, upper bound, reference)\n",
    "## Reference is used to set the reference alternative in a logit model (1 = yes, 0 = no)\n",
    "asc_car = Beta('asc_car', 0, None, None, 1) #Reference alternatives\n",
    "asc_rail = Beta('asc_rail', 0, None, None, 0) \n",
    "b_cost = Beta('b_cost', 0, None, None, 0)\n",
    "\n",
    "# Utility functions\n",
    "V_car = asc_car + b_cost * cost_car\n",
    "V_rail = asc_rail + b_cost * cost_rail\n",
    "\n",
    "'''\n",
    "Remember the coding of the alternatives in the dataset:\n",
    "1: Car\n",
    "2: Rail\n",
    "''' \n",
    "\n",
    "# Dictionary defining alternatives mapping\n",
    "V = {1: V_car, 2: V_rail}\n",
    "\n",
    "# Dictionary defining availability mapping\n",
    "av = {1: av_car, 2: av_rail}\n",
    "\n",
    "# Define the choice model\n",
    "# loglogit(Alternatives mapping, Availability mapping, Choice variable)\n",
    "logprob= models.loglogit(V, av, choice)\n",
    "\n",
    "# Estimate Model\n",
    "the_biogeme = bio.BIOGEME(database, logprob)\n",
    "the_biogeme.model_name = 'Model_A' # Set the model name\n",
    "\n",
    "#Calculate null Loglikelihood\n",
    "the_biogeme.calculate_null_loglikelihood(av)\n",
    "\n",
    "# Save the estimation results\n",
    "Model_A = the_biogeme.estimate()\n",
    "\n",
    "#Print the results\n",
    "print(Model_A.short_summary())\n",
    "Model_A.get_estimated_parameters()"
   ]
  },
  {
   "cell_type": "markdown",
   "id": "95273855",
   "metadata": {},
   "source": [
    "#### Model B"
   ]
  },
  {
   "cell_type": "code",
   "execution_count": null,
   "id": "1a68b002",
   "metadata": {},
   "outputs": [],
   "source": [
    "# Define beta values to be estimated\n",
    "## Beta('name', initial value, lower bound, upper bound, reference)\n",
    "## Reference is used to set the reference alternative in a logit model (1 = yes, 0 = no)\n",
    "asc_car = Beta('asc_car', 0, None, None, 1) #Reference alternatives\n",
    "asc_rail = Beta('asc_rail', 0, None, None, 0) \n",
    "b_cost = Beta('b_cost', 0, None, None, 0)\n",
    "b_tt = Beta('b_tt', 0, None, None, 0)\n",
    "\n",
    "# Utility functions\n",
    "V_car = asc_car + b_cost * cost_car + b_tt * time_car\n",
    "V_rail = asc_rail + b_cost * cost_rail + b_tt * time_rail\n",
    "\n",
    "'''\n",
    "Remember the coding of the alternatives in the dataset:\n",
    "1: Car\n",
    "2: Rail\n",
    "''' \n",
    "\n",
    "# Dictionary defining alternatives mapping\n",
    "V = {1: V_car, 2: V_rail}\n",
    "\n",
    "# Dictionary defining availability mapping\n",
    "av = {1: av_car, 2: av_rail}\n",
    "\n",
    "# Define the choice model\n",
    "# loglogit(Alternatives mapping, Availability mapping, Choice variable)\n",
    "logprob= models.loglogit(V, av, choice)\n",
    "\n",
    "# Estimate Model\n",
    "the_biogeme = bio.BIOGEME(database, logprob)\n",
    "the_biogeme.model_name = 'Model_B' # Set the model name\n",
    "\n",
    "#Calculate null Loglikelihood\n",
    "the_biogeme.calculate_null_loglikelihood(av)\n",
    "\n",
    "# Save the estimation results\n",
    "Model_B = the_biogeme.estimate()\n",
    "\n",
    "#Print the results\n",
    "print(Model_B.short_summary())\n",
    "Model_B.get_estimated_parameters()"
   ]
  },
  {
   "cell_type": "markdown",
   "id": "b45301aa",
   "metadata": {},
   "source": [
    "#### Model C"
   ]
  },
  {
   "cell_type": "code",
   "execution_count": null,
   "id": "1e902c3d",
   "metadata": {},
   "outputs": [],
   "source": [
    "# Define beta values to be estimated\n",
    "## Beta('name', initial value, lower bound, upper bound, reference)\n",
    "## Reference is used to set the reference alternative in a logit model (1 = yes, 0 = no)\n",
    "asc_car = Beta('asc_car', 0, None, None, 1) #Reference alternatives\n",
    "asc_rail = Beta('asc_rail', 0, None, None, 0) \n",
    "b_cost = Beta('b_cost', 0, None, None, 0)\n",
    "b_tt = Beta('b_tt', 0, None, None, 0)\n",
    "b_business_rail = Beta('b_business_rail', 0, None, None, 0)\n",
    "\n",
    "# Utility functions\n",
    "V_car = asc_car + b_cost * cost_car + b_tt * time_car\n",
    "V_rail = asc_rail + b_cost * cost_rail + b_tt * time_rail + b_business_rail * business\n",
    "\n",
    "'''\n",
    "Remember the coding of the alternatives in the dataset:\n",
    "1: Car\n",
    "2: Rail\n",
    "''' \n",
    "\n",
    "# Dictionary defining alternatives mapping\n",
    "V = {1: V_car, 2: V_rail}\n",
    "\n",
    "# Dictionary defining availability mapping\n",
    "av = {1: av_car, 2: av_rail}\n",
    "\n",
    "# Define the choice model\n",
    "# loglogit(Alternatives mapping, Availability mapping, Choice variable)\n",
    "logprob= models.loglogit(V, av, choice)\n",
    "\n",
    "# Estimate Model\n",
    "the_biogeme = bio.BIOGEME(database, logprob)\n",
    "the_biogeme.model_name = 'Model_C' # Set the model name\n",
    "\n",
    "#Calculate null Loglikelihood\n",
    "the_biogeme.calculate_null_loglikelihood(av)\n",
    "\n",
    "# Save the estimation results\n",
    "Model_C = the_biogeme.estimate()\n",
    "\n",
    "#Print the results\n",
    "print(Model_C.short_summary())\n",
    "Model_C.get_estimated_parameters()"
   ]
  }
 ],
 "metadata": {
  "kernelspec": {
   "display_name": "Python 3",
   "language": "python",
   "name": "python3"
  },
  "language_info": {
   "codemirror_mode": {
    "name": "ipython",
    "version": 3
   },
   "file_extension": ".py",
   "mimetype": "text/x-python",
   "name": "python",
   "nbconvert_exporter": "python",
   "pygments_lexer": "ipython3",
   "version": "3.11.3"
  }
 },
 "nbformat": 4,
 "nbformat_minor": 5
}
