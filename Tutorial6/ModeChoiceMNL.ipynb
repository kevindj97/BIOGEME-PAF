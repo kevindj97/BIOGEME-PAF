{
 "cells": [
  {
   "cell_type": "code",
   "execution_count": null,
   "id": "dc194e49",
   "metadata": {},
   "outputs": [],
   "source": [
    "#check BIOGEME version\n",
    "import biogeme.version as ver\n",
    "print(\"Biogeme version:\", ver.get_version())\n",
    "\n",
    "#Import necessary libraries\n",
    "import pandas as pd\n",
    "import biogeme.database as db\n",
    "import biogeme.biogeme as bio\n",
    "from biogeme import models\n",
    "from biogeme.expressions import Beta, Variable"
   ]
  },
  {
   "cell_type": "code",
   "execution_count": null,
   "id": "51618c55",
   "metadata": {},
   "outputs": [],
   "source": [
    "# Load the database\n",
    "df = pd.read_csv(\"apollo_modeChoiceData.csv\", sep=',') # Check the path to your CSV file\n",
    "\n",
    "#create backup of the original dataframe\n",
    "df_backup = df.copy()\n",
    "df\n",
    "\n",
    "df['income'] = df['income'] / 1000  # Scale income to thousands"
   ]
  },
  {
   "cell_type": "code",
   "execution_count": null,
   "id": "3f352764",
   "metadata": {},
   "outputs": [],
   "source": [
    "# Check missing values\n",
    "print(df.isnull().sum())"
   ]
  },
  {
   "cell_type": "code",
   "execution_count": null,
   "id": "4006e1bf",
   "metadata": {},
   "outputs": [],
   "source": [
    "# Drop columns with missing values\n",
    "## df = df.drop(columns=[\"SP_task\"])\n",
    "# Or, set the missing values to -1\n",
    "df = df.fillna(-1)\n",
    "print(df.isnull().sum())\n",
    "# Additional preprocessing the data\n",
    "# Create a row index\n",
    "df[\"RowID\"] = df.index + 1\n",
    "# Define the BIOGEME-specific database\n",
    "database = db.Database(\"ModeChoice\", df)"
   ]
  },
  {
   "cell_type": "code",
   "execution_count": null,
   "id": "266aa778",
   "metadata": {},
   "outputs": [],
   "source": [
    "\"\"\"\n",
    "Use the loop below to get all of columns names.\n",
    "for col in df.columns:\n",
    "    print(f'{col} = Variable(\"{col}\")')\n",
    "\n",
    "1. The code will generate the Variable for each column.    \n",
    "2. Copy the output and paste it below to define the variables.\n",
    "\"\"\"\n",
    "for col in df.columns:\n",
    "    print(f'{col} = Variable(\"{col}\")')"
   ]
  },
  {
   "cell_type": "code",
   "execution_count": null,
   "id": "56e74235",
   "metadata": {},
   "outputs": [],
   "source": [
    "ID = Variable(\"ID\")\n",
    "RP = Variable(\"RP\")\n",
    "SP = Variable(\"SP\")\n",
    "RP_journey = Variable(\"RP_journey\")\n",
    "SP_task = Variable(\"SP_task\")\n",
    "av_car = Variable(\"av_car\")\n",
    "av_bus = Variable(\"av_bus\")\n",
    "av_air = Variable(\"av_air\")\n",
    "av_rail = Variable(\"av_rail\")\n",
    "time_car = Variable(\"time_car\")\n",
    "cost_car = Variable(\"cost_car\")\n",
    "time_bus = Variable(\"time_bus\")\n",
    "cost_bus = Variable(\"cost_bus\")\n",
    "access_bus = Variable(\"access_bus\")\n",
    "time_air = Variable(\"time_air\")\n",
    "cost_air = Variable(\"cost_air\")\n",
    "access_air = Variable(\"access_air\")\n",
    "service_air = Variable(\"service_air\")\n",
    "time_rail = Variable(\"time_rail\")\n",
    "cost_rail = Variable(\"cost_rail\")\n",
    "access_rail = Variable(\"access_rail\")\n",
    "service_rail = Variable(\"service_rail\")\n",
    "female = Variable(\"female\")\n",
    "business = Variable(\"business\")\n",
    "income = Variable(\"income\")\n",
    "choice = Variable(\"choice\")\n",
    "RowID = Variable(\"RowID\")"
   ]
  },
  {
   "cell_type": "code",
   "execution_count": null,
   "id": "da11b908",
   "metadata": {},
   "outputs": [],
   "source": [
    "# Define beta values to be estimated\n",
    "## Beta('name', initial value, lower bound, upper bound, reference)\n",
    "## Reference is used to set the reference alternative in a logit model (1 = yes, 0 = no)\n",
    "asc_car = Beta('asc_car', 0, None, None, 1) #Reference alternatives\n",
    "asc_bus = Beta('asc_bus', 0, None, None, 0)\n",
    "asc_air = Beta('asc_air', 0, None, None, 0)\n",
    "asc_rail = Beta('asc_rail', 0, None, None, 0) \n",
    "\n",
    "b_cost_car = Beta('b_cost_car', 0, None, None, 0)\n",
    "b_cost_bus = Beta('b_cost_bus', 0, None, None, 0)\n",
    "b_cost_air = Beta('b_cost_air', 0, None, None, 0)\n",
    "b_cost_rail = Beta('b_cost_rail', 0, None, None, 0)\n",
    "\n",
    "b_time = Beta('b_time', 0, None, None, 0)\n",
    "b_income = Beta('b_income', 0, None, None, 0)\n",
    "b_inc_cost = Beta('b_inc_cost', 0, None, None, 0)\n",
    "\n",
    "# Utility functions\n",
    "V_car = (asc_car + \n",
    "         b_cost_car * cost_car + \n",
    "         b_time * time_car + \n",
    "         b_income * income + \n",
    "         b_inc_cost * (cost_car/income)\n",
    "        )\n",
    "\n",
    "V_bus = (asc_bus +\n",
    "            b_cost_bus * cost_bus + \n",
    "            b_time * time_bus + \n",
    "            b_income * income + \n",
    "            b_inc_cost * (cost_bus/income)    \n",
    "        )\n",
    "\n",
    "V_air = (asc_air +\n",
    "          b_cost_air * cost_air + \n",
    "          b_time * time_air + \n",
    "          b_income * income + \n",
    "          b_inc_cost * (cost_air/income)    \n",
    "        )\n",
    "\n",
    "V_rail = (asc_rail +\n",
    "          b_cost_rail * cost_rail + \n",
    "          b_time * time_rail + \n",
    "          b_income * income + \n",
    "          b_inc_cost * (cost_rail/income)    \n",
    "        )\n",
    "\n",
    "\n",
    "# Dictionary defining alternatives mapping\n",
    "V = {1: V_car, 2: V_bus, 3: V_air, 4: V_rail}\n",
    "\n",
    "# Dictionary defining availability mapping\n",
    "av = {1: av_car, 2: av_bus,3: av_air, 4: av_rail}\n",
    "\n",
    "# Define the choice model\n",
    "# loglogit(Alternatives mapping, Availability mapping, Choice variable)\n",
    "logprob= models.loglogit(V, av, choice)\n",
    "\n",
    "# Estimate Model\n",
    "the_biogeme = bio.BIOGEME(database, logprob)\n",
    "the_biogeme.model_name = 'MNL_model' # Set the model name\n",
    "\n",
    "#Calculate null Loglikelihood\n",
    "the_biogeme.calculate_null_loglikelihood(av)\n",
    "\n",
    "# Save the estimation results\n",
    "MNL_model = the_biogeme.estimate()\n",
    "\n",
    "#Print the results\n",
    "print(MNL_model.short_summary())\n",
    "MNL_model.get_estimated_parameters()"
   ]
  },
  {
   "cell_type": "code",
   "execution_count": null,
   "id": "ffd78ce8",
   "metadata": {},
   "outputs": [],
   "source": [
    "#computing the choice probabilities for each row in the database\n",
    "simulate = {\n",
    "    'prob_car': models.logit(V, av, 1),  # P(choice=1)\n",
    "    'prob_bus': models.logit(V, av, 2),  # P(choice=2)\n",
    "    'prob_air': models.logit(V, av, 3),  # P(choice=3)\n",
    "    'prob_rail': models.logit(V, av, 4)  # P(choice=4)\n",
    "}\n",
    "\n",
    "biosim = bio.BIOGEME(database, simulate)\n",
    "simulated_values = biosim.simulate(MNL_model.get_beta_values())\n",
    "simulated_values"
   ]
  },
  {
   "cell_type": "markdown",
   "id": "e17263a9",
   "metadata": {},
   "source": [
    "## Derivatives and Elasticities"
   ]
  },
  {
   "cell_type": "markdown",
   "id": "4fa2f738",
   "metadata": {},
   "source": [
    "*DERIVATIVES*\n",
    "\n",
    "The change in $P_{ni}$ as attribute $X_{ni}$ changes by 1.\n",
    "$$\\frac{\\partial P_{ni}}{\\partial X_{ni}} = \\frac{\\partial V_{ni}}{\\partial X_{ni}} P_{ni}\\left(1-P_{ni}\\right) = \\beta_i^{X}P_{ni}\\left(1-P_{ni}\\right)$$\n",
    "\n",
    "The change in $P_{ni}$ as attribute $X_{nj}$ changes by 1.\n",
    "$$\\frac{\\partial P_{ni}}{\\partial X_{nj}} = - \\frac{\\partial V_{nj}}{\\partial X_{nj}} P_{ni}P_{nj} = - \\beta_j^{X}P_{ni}P_{nj} $$"
   ]
  },
  {
   "cell_type": "code",
   "execution_count": 9,
   "id": "b34d2b40",
   "metadata": {},
   "outputs": [
    {
     "data": {
      "text/plain": [
       "{'b_cost_car': -0.01630193904590192,\n",
       " 'b_time': -0.010029922450244031,\n",
       " 'b_income': -5.111718938564405e-12,\n",
       " 'b_inc_cost': -1.1432664762153948,\n",
       " 'asc_bus': -2.025906578250442,\n",
       " 'b_cost_bus': -0.019986562506533807,\n",
       " 'asc_air': -0.9356203966270109,\n",
       " 'b_cost_air': -0.017735969042145482,\n",
       " 'asc_rail': 0.04664074822529534,\n",
       " 'b_cost_rail': -0.02903245194274424}"
      ]
     },
     "execution_count": 9,
     "metadata": {},
     "output_type": "execute_result"
    }
   ],
   "source": [
    "MNL_model.get_beta_values()"
   ]
  },
  {
   "cell_type": "code",
   "execution_count": null,
   "id": "1dc3ddf2",
   "metadata": {},
   "outputs": [],
   "source": [
    "beta_time = MNL_model.get_beta_values()[\"b_time\"]\n",
    "#use 100th prediction\n",
    "prob_car_100 = float(simulated_values.iloc[99].prob_car)\n",
    "prob_bus_100 = float(simulated_values.iloc[99].prob_bus)\n",
    "prob_air_100 = float(simulated_values.iloc[99].prob_air)\n",
    "prob_rail_100 = float(simulated_values.iloc[99].prob_rail)\n",
    "print(\"Probabilities for the 100th observation:\")\n",
    "print(f'P(car) = {prob_car_100:4f}')\n",
    "print(f'P(bus) = {prob_bus_100:4f}')\n",
    "print(f'P(air) = {prob_air_100:4f}')\n",
    "print(f'P(rail) = {prob_rail_100:4f}')"
   ]
  },
  {
   "cell_type": "code",
   "execution_count": null,
   "id": "bef8f78f",
   "metadata": {},
   "outputs": [],
   "source": [
    "#Change of P(air) as air travel time increases by 1\n",
    "derivatives_air = MNL_model.get_beta_values()[\"b_time\"] * prob_air_100 * (1 - prob_air_100)\n",
    "#Change of P(car) as air travel time increases by 1\n",
    "derivatives_car = MNL_model.get_beta_values()[\"b_time\"] * prob_car_100 * prob_air_100\n",
    "#Change of P(bus) as air travel time increases by 1\n",
    "derivatives_bus = MNL_model.get_beta_values()[\"b_time\"] * prob_bus_100 * prob_air_100\n",
    "#Change of P(rail) as air travel time increases by 1\n",
    "derivatives_rail = MNL_model.get_beta_values()[\"b_time\"] * prob_rail_100 * prob_air_100\n",
    "\n",
    "print(f'Derivative of P(air) w.r.t time_air: {derivatives_air}')\n",
    "print(f'Derivative of P(car) w.r.t time_air: {derivatives_car}')\n",
    "print(f'Derivative of P(bus) w.r.t time_air: {derivatives_bus}')\n",
    "print(f'Derivative of P(rail) w.r.t time_air: {derivatives_rail}')"
   ]
  },
  {
   "cell_type": "markdown",
   "id": "1dbc794b",
   "metadata": {},
   "source": [
    "**Elasticities**\n",
    "\n",
    "Direct Elasticities:\n",
    "\n",
    "Proportional change of $P_{ni}$ due to change in $X_{ni}$:\n",
    "$$\\mathcal{E}_{ni}^{X_{ni}} = \\frac{\\frac{P_{ni}^{v2}-P_{ni}^{v1}}{P_{ni}^{v1}}}{\\frac{X_{ni}^{v2}-X_{ni}^{v1}}{X_{ni}^{v1}}} =\\frac{\\partial P_{ni}}{\\partial X_{ni}} \\frac{ X_{ni}}{ P_{ni} } = \\beta_i^{X}X_{ni}\\left(1-P_{ni}\\right)$$\n",
    "\n",
    "Cross Elasticities:\n",
    "\n",
    "Proportional change of $P_{ni}$ due to change in $X_{nj}$:\n",
    "$$\\mathcal{E}_{ni}^{X_{nj}} = - \\beta_j^{X}X_{nj}P_{nj} $$"
   ]
  },
  {
   "cell_type": "code",
   "execution_count": null,
   "id": "7b1cf6be",
   "metadata": {},
   "outputs": [],
   "source": [
    "beta_cost_car = MNL_model.get_beta_values()[\"b_cost_car\"]\n",
    "\n",
    "#Direct elasticity w.r.t cost_car\n",
    "elasticity_car = beta_cost_car * cost_car_100 * (1 - prob_car_100)\n",
    "\n",
    "#Cross elasticity w.r.t cost_car\n",
    "elasticity_bus = - beta_cost_car * cost_car_100 * prob_bus_100\n",
    "elasticity_air = - beta_cost_car * cost_car_100 * prob_air_100\n",
    "elasticity_rail = - beta_cost_car * cost_car_100 * prob_rail_100\n",
    "\n",
    "print(f'Elasticity of P(car) w.r.t cost_car: {elasticity_car}')\n",
    "print(f'Elasticity of P(bus) w.r.t cost_car: {elasticity_bus}')\n",
    "print(f'Elasticity of P(air) w.r.t cost_car: {elasticity_air}')\n",
    "print(f'Elasticity of P(rail) w.r.t cost_car: {elasticity_rail}')"
   ]
  }
 ],
 "metadata": {
  "kernelspec": {
   "display_name": "Python 3",
   "language": "python",
   "name": "python3"
  },
  "language_info": {
   "codemirror_mode": {
    "name": "ipython",
    "version": 3
   },
   "file_extension": ".py",
   "mimetype": "text/x-python",
   "name": "python",
   "nbconvert_exporter": "python",
   "pygments_lexer": "ipython3",
   "version": "3.11.3"
  }
 },
 "nbformat": 4,
 "nbformat_minor": 5
}
