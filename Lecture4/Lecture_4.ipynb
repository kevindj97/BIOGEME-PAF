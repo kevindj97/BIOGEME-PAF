{
 "cells": [
  {
   "cell_type": "markdown",
   "id": "9cb197c8",
   "metadata": {},
   "source": [
    "# Imports and Preprocessing"
   ]
  },
  {
   "cell_type": "markdown",
   "id": "0d7f036b",
   "metadata": {},
   "source": [
    "Install the BIOGEME using pip"
   ]
  },
  {
   "cell_type": "code",
   "execution_count": null,
   "id": "2021ab5c",
   "metadata": {},
   "outputs": [],
   "source": [
    "pip install biogeme"
   ]
  },
  {
   "cell_type": "code",
   "execution_count": null,
   "id": "1c171766",
   "metadata": {},
   "outputs": [],
   "source": [
    "#check BIOGEME version\n",
    "import biogeme.version as ver\n",
    "print(\"Biogeme version:\", ver.get_version())\n",
    "\n",
    "#Import necessary libraries\n",
    "import pandas as pd\n",
    "import biogeme.database as db\n",
    "import biogeme.biogeme as bio\n",
    "from biogeme import models\n",
    "from biogeme.expressions import Beta, Variable"
   ]
  },
  {
   "cell_type": "markdown",
   "id": "6fb84f42",
   "metadata": {},
   "source": [
    "**Important!: All data have to be numeric**"
   ]
  },
  {
   "cell_type": "code",
   "execution_count": null,
   "id": "62734f4e",
   "metadata": {},
   "outputs": [],
   "source": [
    "# Load the database\n",
    "df = pd.read_csv(\"ModeChoiceData_RP.csv\", sep=',') # Check the path to your CSV file\n",
    "\n",
    "#create backup of the original dataframe\n",
    "df_backup = df.copy()"
   ]
  },
  {
   "cell_type": "code",
   "execution_count": null,
   "id": "e142104c",
   "metadata": {},
   "outputs": [],
   "source": [
    "# Check missing values\n",
    "print(df.isnull().sum())\n",
    "\n"
   ]
  },
  {
   "cell_type": "code",
   "execution_count": null,
   "id": "3acd2628",
   "metadata": {},
   "outputs": [],
   "source": [
    "# Drop columns with missing values\n",
    "## df = df.drop(columns=[\"SP_task\"])\n",
    "# Or, set the missing values to -1\n",
    "df = df.fillna(-1)\n",
    "print(df.isnull().sum())\n",
    "\n",
    "# Additional preprocessing the data\n",
    "# Create a row index\n",
    "df[\"RowID\"] = df.index + 1\n",
    "df"
   ]
  },
  {
   "cell_type": "code",
   "execution_count": null,
   "id": "b93b1ae3",
   "metadata": {},
   "outputs": [],
   "source": [
    "# Define the BIOGEME-specific database\n",
    "database = db.Database(\"ModeChoice\", df)\n",
    "#print the BIOGEME-specific database\n",
    "database._df"
   ]
  },
  {
   "cell_type": "code",
   "execution_count": null,
   "id": "c7fd0b5b",
   "metadata": {},
   "outputs": [],
   "source": [
    "\"\"\"\n",
    "Use the loop below to get all of columns names.\n",
    "for col in df.columns:\n",
    "    print(f'{col} = Variable(\"{col}\")')\n",
    "\n",
    "1. The code will generate the Variable for each column.    \n",
    "2. Copy the output and paste it below to define the variables.\n",
    "\"\"\"\n",
    "for col in df.columns:\n",
    "    print(f'{col} = Variable(\"{col}\")')\n"
   ]
  },
  {
   "cell_type": "code",
   "execution_count": null,
   "id": "73308bf1",
   "metadata": {},
   "outputs": [],
   "source": [
    "#Define the variables\n",
    "ID = Variable(\"ID\")\n",
    "RP = Variable(\"RP\")\n",
    "SP = Variable(\"SP\")\n",
    "RP_journey = Variable(\"RP_journey\")\n",
    "av_car = Variable(\"av_car\")\n",
    "av_rail = Variable(\"av_rail\")\n",
    "time_car = Variable(\"time_car\")\n",
    "cost_car = Variable(\"cost_car\")\n",
    "time_rail = Variable(\"time_rail\")\n",
    "cost_rail = Variable(\"cost_rail\")\n",
    "business = Variable(\"business\")\n",
    "access_rail = Variable(\"access_rail\")\n",
    "service_rail = Variable(\"service_rail\")\n",
    "female = Variable(\"female\")\n",
    "income = Variable(\"income\")\n",
    "choice = Variable(\"choice\")"
   ]
  },
  {
   "cell_type": "markdown",
   "id": "01af878a",
   "metadata": {},
   "source": [
    "# Binary Logit Models"
   ]
  },
  {
   "cell_type": "markdown",
   "id": "50ff0f3a",
   "metadata": {},
   "source": [
    "#### Specification Baseline (Model A from Lecture 3)"
   ]
  },
  {
   "cell_type": "code",
   "execution_count": null,
   "id": "e31bf94c",
   "metadata": {},
   "outputs": [],
   "source": [
    "# Define beta values to be estimated\n",
    "## Beta('name', initial value, lower bound, upper bound, reference)\n",
    "## Reference is used to set the reference alternative in a logit model (1 = yes, 0 = no)\n",
    "asc_car = Beta('asc_car', 0, None, None, 1) #Reference alternatives\n",
    "asc_rail = Beta('asc_rail', 0, None, None, 0) \n",
    "b_cost = Beta('b_cost', 0, None, None, 0)\n",
    "\n",
    "# Utility functions\n",
    "V_car = asc_car + b_cost * cost_car\n",
    "V_rail = asc_rail + b_cost * cost_rail\n",
    "\n",
    "'''\n",
    "Remember the coding of the alternatives in the dataset:\n",
    "1: Car\n",
    "2: Rail\n",
    "''' \n",
    "\n",
    "# Dictionary defining alternatives mapping\n",
    "V = {1: V_car, 2: V_rail}\n",
    "\n",
    "# Dictionary defining availability mapping\n",
    "av = {1: av_car, 2: av_rail}\n",
    "\n",
    "# Define the choice model\n",
    "# loglogit(Alternatives mapping, Availability mapping, Choice variable)\n",
    "logprob= models.loglogit(V, av, choice)\n",
    "\n",
    "# Estimate Model\n",
    "the_biogeme = bio.BIOGEME(database, logprob)\n",
    "the_biogeme.model_name = 'Spec_Base' # Set the model name\n",
    "\n",
    "#Calculate null Loglikelihood\n",
    "the_biogeme.calculate_null_loglikelihood(av)\n",
    "\n",
    "# Save the estimation results\n",
    "results = the_biogeme.estimate()\n",
    "\n",
    "#Print the results\n",
    "print(results.short_summary())\n",
    "results.get_estimated_parameters()"
   ]
  },
  {
   "cell_type": "markdown",
   "id": "95273855",
   "metadata": {},
   "source": [
    "#### Specification 1 (Model B from Lecture 3)"
   ]
  },
  {
   "cell_type": "code",
   "execution_count": null,
   "id": "1a68b002",
   "metadata": {},
   "outputs": [],
   "source": [
    "# Define beta values to be estimated\n",
    "## Beta('name', initial value, lower bound, upper bound, reference)\n",
    "## Reference is used to set the reference alternative in a logit model (1 = yes, 0 = no)\n",
    "asc_car = Beta('asc_car', 0, None, None, 1) #Reference alternatives\n",
    "asc_rail = Beta('asc_rail', 0, None, None, 0) \n",
    "b_cost = Beta('b_cost', 0, None, None, 0)\n",
    "b_tt = Beta('b_tt', 0, None, None, 0)\n",
    "\n",
    "# Utility functions\n",
    "V_car = asc_car + b_cost * cost_car + b_tt * time_car\n",
    "V_rail = asc_rail + b_cost * cost_rail + b_tt * time_rail\n",
    "\n",
    "'''\n",
    "Remember the coding of the alternatives in the dataset:\n",
    "1: Car\n",
    "2: Rail\n",
    "''' \n",
    "\n",
    "# Dictionary defining alternatives mapping\n",
    "V = {1: V_car, 2: V_rail}\n",
    "\n",
    "# Dictionary defining availability mapping\n",
    "av = {1: av_car, 2: av_rail}\n",
    "\n",
    "# Define the choice model\n",
    "# loglogit(Alternatives mapping, Availability mapping, Choice variable)\n",
    "logprob= models.loglogit(V, av, choice)\n",
    "\n",
    "# Estimate Model\n",
    "the_biogeme = bio.BIOGEME(database, logprob)\n",
    "the_biogeme.model_name = 'Spec_1' # Set the model name\n",
    "\n",
    "#Calculate null Loglikelihood\n",
    "the_biogeme.calculate_null_loglikelihood(av)\n",
    "\n",
    "# Save the estimation results\n",
    "results = the_biogeme.estimate()\n",
    "\n",
    "#Print the results\n",
    "print(results.short_summary())\n",
    "results.get_estimated_parameters()"
   ]
  },
  {
   "cell_type": "markdown",
   "id": "1fe94235",
   "metadata": {},
   "source": [
    "#### Specification 2 (Alternative-Specific)"
   ]
  },
  {
   "cell_type": "code",
   "execution_count": null,
   "id": "1e902c3d",
   "metadata": {},
   "outputs": [],
   "source": [
    "# Define beta values to be estimated\n",
    "## Beta('name', initial value, lower bound, upper bound, reference)\n",
    "## Reference is used to set the reference alternative in a logit model (1 = yes, 0 = no)\n",
    "asc_car = Beta('asc_car', 0, None, None, 1) #Reference alternatives\n",
    "asc_rail = Beta('asc_rail', 0, None, None, 0) \n",
    "b_cost = Beta('b_cost', 0, None, None, 0)\n",
    "b_tt_car = Beta('b_tt_car', 0, None, None, 0)\n",
    "b_tt_rail = Beta('b_tt_rail', 0, None, None, 0)\n",
    "\n",
    "# Utility functions\n",
    "V_car = asc_car + b_cost * cost_car + b_tt_car * time_car\n",
    "V_rail = asc_rail + b_cost * cost_rail + b_tt_rail * time_rail\n",
    "\n",
    "'''\n",
    "Remember the coding of the alternatives in the dataset:\n",
    "1: Car\n",
    "2: Rail\n",
    "''' \n",
    "\n",
    "# Dictionary defining alternatives mapping\n",
    "V = {1: V_car, 2: V_rail}\n",
    "\n",
    "# Dictionary defining availability mapping\n",
    "av = {1: av_car, 2: av_rail}\n",
    "\n",
    "# Define the choice model\n",
    "# loglogit(Alternatives mapping, Availability mapping, Choice variable)\n",
    "logprob= models.loglogit(V, av, choice)\n",
    "\n",
    "# Estimate Model\n",
    "the_biogeme = bio.BIOGEME(database, logprob)\n",
    "the_biogeme.model_name = 'Spec_2' # Set the model name\n",
    "\n",
    "#Calculate null Loglikelihood\n",
    "the_biogeme.calculate_null_loglikelihood(av)\n",
    "\n",
    "# Save the estimation results\n",
    "results = the_biogeme.estimate()\n",
    "\n",
    "#Print the results\n",
    "print(results.short_summary())\n",
    "results.get_estimated_parameters()"
   ]
  },
  {
   "cell_type": "markdown",
   "id": "3f3e2df5",
   "metadata": {},
   "source": [
    "#### Specification 3"
   ]
  },
  {
   "cell_type": "code",
   "execution_count": null,
   "id": "46172265",
   "metadata": {},
   "outputs": [],
   "source": [
    "# Define beta values to be estimated\n",
    "## Beta('name', initial value, lower bound, upper bound, reference)\n",
    "## Reference is used to set the reference alternative in a logit model (1 = yes, 0 = no)\n",
    "asc_car = Beta('asc_car', 0, None, None, 1) #Reference alternatives\n",
    "asc_rail = Beta('asc_rail', 0, None, None, 0) \n",
    "b_cost = Beta('b_cost', 0, None, None, 0)\n",
    "b_tt_car = Beta('b_tt_car', 0, None, None, 0)\n",
    "b_tt_rail = Beta('b_tt_rail', 0, None, None, 0)\n",
    "b_female_rail = Beta('b_female_rail', 0, None, None, 0)\n",
    "\n",
    "# Utility functions\n",
    "V_car = asc_car + b_cost * cost_car + b_tt_car * time_car\n",
    "V_rail = asc_rail + b_cost * cost_rail + b_tt_rail * time_rail + b_female_rail * female\n",
    "\n",
    "'''\n",
    "Remember the coding of the alternatives in the dataset:\n",
    "1: Car\n",
    "2: Rail\n",
    "''' \n",
    "\n",
    "# Dictionary defining alternatives mapping\n",
    "V = {1: V_car, 2: V_rail}\n",
    "\n",
    "# Dictionary defining availability mapping\n",
    "av = {1: av_car, 2: av_rail}\n",
    "\n",
    "# Define the choice model\n",
    "# loglogit(Alternatives mapping, Availability mapping, Choice variable)\n",
    "logprob= models.loglogit(V, av, choice)\n",
    "\n",
    "# Estimate Model\n",
    "the_biogeme = bio.BIOGEME(database, logprob)\n",
    "the_biogeme.model_name = 'Spec_3' # Set the model name\n",
    "\n",
    "#Calculate null Loglikelihood\n",
    "the_biogeme.calculate_null_loglikelihood(av)\n",
    "\n",
    "# Save the estimation results\n",
    "results = the_biogeme.estimate()\n",
    "\n",
    "#Print the results\n",
    "print(results.short_summary())\n",
    "results.get_estimated_parameters()"
   ]
  },
  {
   "cell_type": "markdown",
   "id": "6d9627da",
   "metadata": {},
   "source": [
    "#### Specification 4"
   ]
  },
  {
   "cell_type": "markdown",
   "id": "40cf6fc0",
   "metadata": {},
   "source": [
    "Since income level doesn't exist originally, we need to update the dataset"
   ]
  },
  {
   "cell_type": "code",
   "execution_count": null,
   "id": "f421b999",
   "metadata": {},
   "outputs": [],
   "source": [
    "# Update the database with income levels\n",
    "df['income_level'] = pd.cut(df['income'], bins=[0, 35, 55, df['income'].max()], labels=[1, 2, 3])\n",
    "# Change income_level type from categorical to integer\n",
    "df['income_level'] = df['income_level'].astype(int)\n",
    "df\n",
    "\n"
   ]
  },
  {
   "cell_type": "code",
   "execution_count": null,
   "id": "ddbe00dd",
   "metadata": {},
   "outputs": [],
   "source": [
    "# Update the BIOGEME-specific database\n",
    "database = db.Database(\"ModeChoice\", df)\n",
    "database._df"
   ]
  },
  {
   "cell_type": "code",
   "execution_count": null,
   "id": "78005ab7",
   "metadata": {},
   "outputs": [],
   "source": [
    "#Update Variable definitions for income levels\n",
    "#Hint: if you have multiple new columns,\n",
    "# you can re run the loop function to get the variable definitions, \n",
    "# then copy the output and paste it below to define the new variables.\n",
    "income_level = Variable(\"income_level\")"
   ]
  },
  {
   "cell_type": "code",
   "execution_count": null,
   "id": "155f49c5",
   "metadata": {},
   "outputs": [],
   "source": [
    "# Define beta values to be estimated\n",
    "## Beta('name', initial value, lower bound, upper bound, reference)\n",
    "## Reference is used to set the reference alternative in a logit model (1 = yes, 0 = no)\n",
    "asc_car = Beta('asc_car', 0, None, None, 1) #Reference alternatives\n",
    "asc_rail = Beta('asc_rail', 0, None, None, 0) \n",
    "b_cost = Beta('b_cost', 0, None, None, 0)\n",
    "\n",
    "b_MI_rail = Beta('b_mid_rail', 0, None, None, 0) # New parameter for mid income\n",
    "b_HI_rail = Beta('b_high_rail', 0, None, None, 0) # New parameter for high income\n",
    "\n",
    "# Utility functions\n",
    "V_car = asc_car + b_cost * cost_car\n",
    "V_rail = asc_rail + b_cost * cost_rail  + b_MI_rail * (income_level == 2) + b_HI_rail * (income_level == 3)\n",
    "\n",
    "'''\n",
    "Remember the coding of the alternatives in the dataset:\n",
    "1: Car\n",
    "2: Rail\n",
    "''' \n",
    "\n",
    "# Dictionary defining alternatives mapping\n",
    "V = {1: V_car, 2: V_rail}\n",
    "\n",
    "# Dictionary defining availability mapping\n",
    "av = {1: av_car, 2: av_rail}\n",
    "\n",
    "# Define the choice model\n",
    "# loglogit(Alternatives mapping, Availability mapping, Choice variable)\n",
    "logprob= models.loglogit(V, av, choice)\n",
    "\n",
    "# Estimate Model\n",
    "the_biogeme = bio.BIOGEME(database, logprob)\n",
    "the_biogeme.model_name = 'Spec_4' # Set the model name\n",
    "\n",
    "#Calculate null Loglikelihood\n",
    "the_biogeme.calculate_null_loglikelihood(av)\n",
    "\n",
    "# Save the estimation results\n",
    "results = the_biogeme.estimate()\n",
    "\n",
    "#Print the results\n",
    "print(results.short_summary())\n",
    "results.get_estimated_parameters()"
   ]
  },
  {
   "cell_type": "markdown",
   "id": "4b4c9f1a",
   "metadata": {},
   "source": [
    "#### Specification 5"
   ]
  },
  {
   "cell_type": "code",
   "execution_count": null,
   "id": "c51368cc",
   "metadata": {},
   "outputs": [],
   "source": [
    "# Define beta values to be estimated\n",
    "## Beta('name', initial value, lower bound, upper bound, reference)\n",
    "## Reference is used to set the reference alternative in a logit model (1 = yes, 0 = no)\n",
    "asc_car = Beta('asc_car', 0, None, None, 1) #Reference alternatives\n",
    "asc_rail = Beta('asc_rail', 0, None, None, 0) \n",
    "b_cost = Beta('b_cost', 0, None, None, 0)\n",
    "b_tt_car = Beta('b_tt_car', 0, None, None, 0)\n",
    "b_tt_rail = Beta('b_tt_rail', 0, None, None, 0)\n",
    "b_female_rail = Beta('b_female_rail', 0, None, None, 0)\n",
    "b_business_rail = Beta('b_business_rail', 0, None, None, 0)\n",
    "busi_inc_rail = Beta('busi_inc_rail', 0, None, None, 0)\n",
    "\n",
    "# Utility functions\n",
    "V_car = (asc_car + \n",
    "         b_cost * cost_car + \n",
    "         b_tt_car * time_car\n",
    "        )\n",
    "V_rail = (asc_rail + \n",
    "          b_cost * cost_rail + \n",
    "          b_tt_rail * time_rail + \n",
    "          b_female_rail * female +\n",
    "          b_business_rail * business +\n",
    "          busi_inc_rail * income * business\n",
    "          )\n",
    "\n",
    "'''\n",
    "Remember the coding of the alternatives in the dataset:\n",
    "1: Car\n",
    "2: Rail\n",
    "''' \n",
    "\n",
    "# Dictionary defining alternatives mapping\n",
    "V = {1: V_car, 2: V_rail}\n",
    "\n",
    "# Dictionary defining availability mapping\n",
    "av = {1: av_car, 2: av_rail}\n",
    "\n",
    "# Define the choice model\n",
    "# loglogit(Alternatives mapping, Availability mapping, Choice variable)\n",
    "logprob= models.loglogit(V, av, choice)\n",
    "\n",
    "# Estimate Model\n",
    "the_biogeme = bio.BIOGEME(database, logprob)\n",
    "the_biogeme.model_name = 'Spec_5' # Set the model name\n",
    "\n",
    "#Calculate null Loglikelihood\n",
    "the_biogeme.calculate_null_loglikelihood(av)\n",
    "\n",
    "# Save the estimation results\n",
    "results = the_biogeme.estimate()\n",
    "\n",
    "#Print the results\n",
    "print(results.short_summary())\n",
    "results.get_estimated_parameters()"
   ]
  },
  {
   "cell_type": "markdown",
   "id": "d2afc9cc",
   "metadata": {},
   "source": [
    "#### Specification 6"
   ]
  },
  {
   "cell_type": "code",
   "execution_count": null,
   "id": "f64e89c6",
   "metadata": {},
   "outputs": [],
   "source": [
    "# Define beta values to be estimated\n",
    "## Beta('name', initial value, lower bound, upper bound, reference)\n",
    "## Reference is used to set the reference alternative in a logit model (1 = yes, 0 = no)\n",
    "asc_car = Beta('asc_car', 0, None, None, 1) #Reference alternatives\n",
    "asc_rail = Beta('asc_rail', 0, None, None, 0) \n",
    "b_cost = Beta('b_cost', 0, None, None, 0)\n",
    "income_rail = Beta('income_rail', 0, None, None, 0) # New parameter for income effect on rail\n",
    "b_cost_inc = Beta('b_cost_inc', 0, None, None, 0) # New parameter for cost effect on income\n",
    "\n",
    "# Utility functions\n",
    "V_car = (asc_car + \n",
    "         b_cost * cost_car + \n",
    "         b_cost_inc * cost_car / income\n",
    "        )\n",
    "V_rail = (asc_rail + \n",
    "          b_cost * cost_rail + \n",
    "          income_rail * income +\n",
    "          b_cost_inc * cost_rail / income\n",
    "        )\n",
    "\n",
    "'''\n",
    "Remember the coding of the alternatives in the dataset:\n",
    "1: Car\n",
    "2: Rail\n",
    "''' \n",
    "\n",
    "# Dictionary defining alternatives mapping\n",
    "V = {1: V_car, 2: V_rail}\n",
    "\n",
    "# Dictionary defining availability mapping\n",
    "av = {1: av_car, 2: av_rail}\n",
    "\n",
    "# Define the choice model\n",
    "# loglogit(Alternatives mapping, Availability mapping, Choice variable)\n",
    "logprob= models.loglogit(V, av, choice)\n",
    "\n",
    "# Estimate Model\n",
    "the_biogeme = bio.BIOGEME(database, logprob)\n",
    "the_biogeme.model_name = 'Spec_6' # Set the model name\n",
    "\n",
    "#Calculate null Loglikelihood\n",
    "the_biogeme.calculate_null_loglikelihood(av)\n",
    "\n",
    "# Save the estimation results\n",
    "results = the_biogeme.estimate()\n",
    "\n",
    "#Print the results\n",
    "print(results.short_summary())\n",
    "results.get_estimated_parameters()"
   ]
  },
  {
   "cell_type": "markdown",
   "id": "96ab4863",
   "metadata": {},
   "source": [
    "#### Log-Transformation"
   ]
  },
  {
   "cell_type": "code",
   "execution_count": null,
   "id": "0ce6cfae",
   "metadata": {},
   "outputs": [],
   "source": [
    "import numpy as np\n",
    "# Update the dataset with log-transformed cost variables\n",
    "df['log_cost_car'] = np.log(df['cost_car'])\n",
    "df['log_cost_rail'] = np.log(df['cost_rail'])\n",
    "# Update the BIOGEME-specific database\n",
    "database = db.Database(\"ModeChoice\", df)\n",
    "database._df\n",
    "#update Variables\n",
    "log_cost_car = Variable(\"log_cost_car\")\n",
    "log_cost_rail = Variable(\"log_cost_rail\")"
   ]
  },
  {
   "cell_type": "code",
   "execution_count": null,
   "id": "ef0683b6",
   "metadata": {},
   "outputs": [],
   "source": [
    "# Define beta values to be estimated\n",
    "## Beta('name', initial value, lower bound, upper bound, reference)\n",
    "## Reference is used to set the reference alternative in a logit model (1 = yes, 0 = no)\n",
    "asc_car = Beta('asc_car', 0, None, None, 1) #Reference alternatives\n",
    "asc_rail = Beta('asc_rail', 0, None, None, 0) \n",
    "b_cost = Beta('b_cost', 0, None, None, 0)\n",
    "\n",
    "# Utility functions\n",
    "V_car = (asc_car + \n",
    "         b_cost * log_cost_car\n",
    "        )\n",
    "V_rail = (asc_rail + \n",
    "          b_cost * log_cost_rail\n",
    "        )\n",
    "\n",
    "'''\n",
    "Remember the coding of the alternatives in the dataset:\n",
    "1: Car\n",
    "2: Rail\n",
    "''' \n",
    "\n",
    "# Dictionary defining alternatives mapping\n",
    "V = {1: V_car, 2: V_rail}\n",
    "\n",
    "# Dictionary defining availability mapping\n",
    "av = {1: av_car, 2: av_rail}\n",
    "\n",
    "# Define the choice model\n",
    "# loglogit(Alternatives mapping, Availability mapping, Choice variable)\n",
    "logprob= models.loglogit(V, av, choice)\n",
    "\n",
    "# Estimate Model\n",
    "the_biogeme = bio.BIOGEME(database, logprob)\n",
    "the_biogeme.model_name = 'Spec_Log' # Set the model name\n",
    "\n",
    "#Calculate null Loglikelihood\n",
    "the_biogeme.calculate_null_loglikelihood(av)\n",
    "\n",
    "# Save the estimation results\n",
    "results = the_biogeme.estimate()\n",
    "\n",
    "#Print the results\n",
    "print(results.short_summary())\n",
    "results.get_estimated_parameters()"
   ]
  },
  {
   "cell_type": "markdown",
   "id": "683710de",
   "metadata": {},
   "source": [
    "#### Power Expansion Series"
   ]
  },
  {
   "cell_type": "code",
   "execution_count": 38,
   "id": "e809d907",
   "metadata": {},
   "outputs": [
    {
     "name": "stdout",
     "output_type": "stream",
     "text": [
      "Results for model Spec_Pwr\n",
      "Nbr of parameters:\t\t4\n",
      "Sample size:\t\t\t512\n",
      "Excluded data:\t\t\t0\n",
      "Null log likelihood:\t\t-354.8914\n",
      "Final log likelihood:\t\t-344.5117\n",
      "Likelihood ratio test (null):\t\t20.75928\n",
      "Rho square (null):\t\t\t0.0292\n",
      "Rho bar square (null):\t\t\t0.018\n",
      "Akaike Information Criterion:\t697.0234\n",
      "Bayesian Information Criterion:\t713.9767\n",
      "\n"
     ]
    },
    {
     "name": "stderr",
     "output_type": "stream",
     "text": [
      "C:\\Users\\kevin\\AppData\\Local\\Temp\\ipykernel_244212\\425410411.py:50: DeprecationWarning: get_estimated_parameters is deprecated. Use get_pandas_estimated_parameters(estimation_results=my_results) instead\n",
      "  results.get_estimated_parameters()\n"
     ]
    },
    {
     "data": {
      "application/vnd.microsoft.datawrangler.viewer.v0+json": {
       "columns": [
        {
         "name": "index",
         "rawType": "int64",
         "type": "integer"
        },
        {
         "name": "Name",
         "rawType": "object",
         "type": "string"
        },
        {
         "name": "Value",
         "rawType": "float64",
         "type": "float"
        },
        {
         "name": "Robust std err.",
         "rawType": "float64",
         "type": "float"
        },
        {
         "name": "Robust t-stat.",
         "rawType": "float64",
         "type": "float"
        },
        {
         "name": "Robust p-value",
         "rawType": "float64",
         "type": "float"
        }
       ],
       "ref": "7f136311-4573-4ad0-a0f9-e42b8c89ac47",
       "rows": [
        [
         "0",
         "b_cost",
         "-0.04914848647013794",
         "0.27444073916952993",
         "-0.1790859717797856",
         "0.8578701968364042"
        ],
        [
         "1",
         "b_cost_squared",
         "0.0006485410194122818",
         "0.005484585969931722",
         "0.1182479448709153",
         "0.9058712018936306"
        ],
        [
         "2",
         "b_cost_cubed",
         "-4.799396000061858e-06",
         "3.4884017376696795e-05",
         "-0.13758151614922506",
         "0.89057116456792"
        ],
        [
         "3",
         "asc_rail",
         "0.12666799257038264",
         "0.1236434323185906",
         "1.024461956410258",
         "0.3056171310739093"
        ]
       ],
       "shape": {
        "columns": 5,
        "rows": 4
       }
      },
      "text/html": [
       "<div>\n",
       "<style scoped>\n",
       "    .dataframe tbody tr th:only-of-type {\n",
       "        vertical-align: middle;\n",
       "    }\n",
       "\n",
       "    .dataframe tbody tr th {\n",
       "        vertical-align: top;\n",
       "    }\n",
       "\n",
       "    .dataframe thead th {\n",
       "        text-align: right;\n",
       "    }\n",
       "</style>\n",
       "<table border=\"1\" class=\"dataframe\">\n",
       "  <thead>\n",
       "    <tr style=\"text-align: right;\">\n",
       "      <th></th>\n",
       "      <th>Name</th>\n",
       "      <th>Value</th>\n",
       "      <th>Robust std err.</th>\n",
       "      <th>Robust t-stat.</th>\n",
       "      <th>Robust p-value</th>\n",
       "    </tr>\n",
       "  </thead>\n",
       "  <tbody>\n",
       "    <tr>\n",
       "      <th>0</th>\n",
       "      <td>b_cost</td>\n",
       "      <td>-0.049148</td>\n",
       "      <td>0.274441</td>\n",
       "      <td>-0.179086</td>\n",
       "      <td>0.857870</td>\n",
       "    </tr>\n",
       "    <tr>\n",
       "      <th>1</th>\n",
       "      <td>b_cost_squared</td>\n",
       "      <td>0.000649</td>\n",
       "      <td>0.005485</td>\n",
       "      <td>0.118248</td>\n",
       "      <td>0.905871</td>\n",
       "    </tr>\n",
       "    <tr>\n",
       "      <th>2</th>\n",
       "      <td>b_cost_cubed</td>\n",
       "      <td>-0.000005</td>\n",
       "      <td>0.000035</td>\n",
       "      <td>-0.137582</td>\n",
       "      <td>0.890571</td>\n",
       "    </tr>\n",
       "    <tr>\n",
       "      <th>3</th>\n",
       "      <td>asc_rail</td>\n",
       "      <td>0.126668</td>\n",
       "      <td>0.123643</td>\n",
       "      <td>1.024462</td>\n",
       "      <td>0.305617</td>\n",
       "    </tr>\n",
       "  </tbody>\n",
       "</table>\n",
       "</div>"
      ],
      "text/plain": [
       "             Name     Value  Robust std err.  Robust t-stat.  Robust p-value\n",
       "0          b_cost -0.049148         0.274441       -0.179086        0.857870\n",
       "1  b_cost_squared  0.000649         0.005485        0.118248        0.905871\n",
       "2    b_cost_cubed -0.000005         0.000035       -0.137582        0.890571\n",
       "3        asc_rail  0.126668         0.123643        1.024462        0.305617"
      ]
     },
     "execution_count": 38,
     "metadata": {},
     "output_type": "execute_result"
    }
   ],
   "source": [
    "# Define beta values to be estimated\n",
    "## Beta('name', initial value, lower bound, upper bound, reference)\n",
    "## Reference is used to set the reference alternative in a logit model (1 = yes, 0 = no)\n",
    "asc_car = Beta('asc_car', 0, None, None, 1) #Reference alternatives\n",
    "asc_rail = Beta('asc_rail', 0, None, None, 0) \n",
    "b_cost = Beta('b_cost', 0, None, None, 0)\n",
    "b_cost_squared = Beta('b_cost_squared', 0, None, None, 0)\n",
    "b_cost_cubed = Beta('b_cost_cubed', 0, None, None, 0)\n",
    "\n",
    "# Utility functions\n",
    "V_car = (asc_car + \n",
    "         b_cost * cost_car +\n",
    "         b_cost_squared * cost_car * cost_car +\n",
    "         b_cost_cubed * cost_car * cost_car * cost_car\n",
    "        )\n",
    "V_rail = (asc_rail + \n",
    "          b_cost * cost_rail +\n",
    "          b_cost_squared * cost_rail * cost_rail +\n",
    "          b_cost_cubed * cost_rail * cost_rail * cost_rail\n",
    "        )\n",
    "\n",
    "'''\n",
    "Remember the coding of the alternatives in the dataset:\n",
    "1: Car\n",
    "2: Rail\n",
    "''' \n",
    "\n",
    "# Dictionary defining alternatives mapping\n",
    "V = {1: V_car, 2: V_rail}\n",
    "\n",
    "# Dictionary defining availability mapping\n",
    "av = {1: av_car, 2: av_rail}\n",
    "\n",
    "# Define the choice model\n",
    "# loglogit(Alternatives mapping, Availability mapping, Choice variable)\n",
    "logprob= models.loglogit(V, av, choice)\n",
    "\n",
    "# Estimate Model\n",
    "the_biogeme = bio.BIOGEME(database, logprob)\n",
    "the_biogeme.model_name = 'Spec_Pwr' # Set the model name\n",
    "\n",
    "#Calculate null Loglikelihood\n",
    "the_biogeme.calculate_null_loglikelihood(av)\n",
    "\n",
    "# Save the estimation results\n",
    "results = the_biogeme.estimate()\n",
    "\n",
    "#Print the results\n",
    "print(results.short_summary())\n",
    "results.get_estimated_parameters()"
   ]
  },
  {
   "cell_type": "markdown",
   "id": "d8ea5d56",
   "metadata": {},
   "source": [
    "#### Piecewise Linearization"
   ]
  },
  {
   "cell_type": "code",
   "execution_count": null,
   "id": "5b9bca83",
   "metadata": {},
   "outputs": [],
   "source": [
    "#Update the database with piecewise cost variables\n",
    "df['cost_car_TC1'] = df['cost_car'].apply(lambda x: 40 if x >= 40 else x)\n",
    "df['cost_car_TC2'] = df['cost_car'].apply(lambda x: 0 if x < 40 else (10 if x >= 50 else x - 40))\n",
    "df['cost_car_TC3'] = df['cost_car'].apply(lambda x: 0 if x < 50 else (10 if x >= 60 else x - 50))\n",
    "df['cost_car_TC4'] = df['cost_car'].apply(lambda x: 0 if x < 60 else x-60)\n",
    "\n",
    "df['cost_rail_TC1'] = df['cost_rail'].apply(lambda x: 40 if x >= 40 else x)\n",
    "df['cost_rail_TC2'] = df['cost_rail'].apply(lambda x: 0 if x < 40 else (10 if x >= 50 else x - 40))\n",
    "df['cost_rail_TC3'] = df['cost_rail'].apply(lambda x: 0 if x < 50 else (10 if x >= 60 else x - 50))\n",
    "df['cost_rail_TC4'] = df['cost_rail'].apply(lambda x: 0 if x < 60 else x-60)\n",
    "# Update the BIOGEME-specific database\n",
    "database = db.Database(\"ModeChoice\", df)\n",
    "#update Variables\n",
    "cost_car_TC1 = Variable(\"cost_car_TC1\")\n",
    "cost_car_TC2 = Variable(\"cost_car_TC2\")\n",
    "cost_car_TC3 = Variable(\"cost_car_TC3\")\n",
    "cost_car_TC4 = Variable(\"cost_car_TC4\")\n",
    "cost_rail_TC1 = Variable(\"cost_rail_TC1\")\n",
    "cost_rail_TC2 = Variable(\"cost_rail_TC2\")\n",
    "cost_rail_TC3 = Variable(\"cost_rail_TC3\")\n",
    "cost_rail_TC4 = Variable(\"cost_rail_TC4\")"
   ]
  },
  {
   "cell_type": "code",
   "execution_count": 37,
   "id": "74136b8b",
   "metadata": {},
   "outputs": [
    {
     "name": "stdout",
     "output_type": "stream",
     "text": [
      "Results for model Spec_Piecewise\n",
      "Nbr of parameters:\t\t5\n",
      "Sample size:\t\t\t512\n",
      "Excluded data:\t\t\t0\n",
      "Null log likelihood:\t\t-354.8914\n",
      "Final log likelihood:\t\t-344.1149\n",
      "Likelihood ratio test (null):\t\t21.55281\n",
      "Rho square (null):\t\t\t0.0304\n",
      "Rho bar square (null):\t\t\t0.0163\n",
      "Akaike Information Criterion:\t698.2299\n",
      "Bayesian Information Criterion:\t719.4215\n",
      "\n"
     ]
    },
    {
     "name": "stderr",
     "output_type": "stream",
     "text": [
      "C:\\Users\\kevin\\AppData\\Local\\Temp\\ipykernel_244212\\746792014.py:53: DeprecationWarning: get_estimated_parameters is deprecated. Use get_pandas_estimated_parameters(estimation_results=my_results) instead\n",
      "  results.get_estimated_parameters()\n"
     ]
    },
    {
     "data": {
      "application/vnd.microsoft.datawrangler.viewer.v0+json": {
       "columns": [
        {
         "name": "index",
         "rawType": "int64",
         "type": "integer"
        },
        {
         "name": "Name",
         "rawType": "object",
         "type": "string"
        },
        {
         "name": "Value",
         "rawType": "float64",
         "type": "float"
        },
        {
         "name": "Robust std err.",
         "rawType": "float64",
         "type": "float"
        },
        {
         "name": "Robust t-stat.",
         "rawType": "float64",
         "type": "float"
        },
        {
         "name": "Robust p-value",
         "rawType": "float64",
         "type": "float"
        }
       ],
       "ref": "56ce12c7-f73e-49b2-b39b-ca42ed4a889c",
       "rows": [
        [
         "0",
         "b_cost_TC1",
         "-0.0003052335139820466",
         "0.027793604402128694",
         "-0.010982149330680873",
         "0.9912376887385332"
        ],
        [
         "1",
         "b_cost_TC2",
         "-0.04481099390861688",
         "0.026890808309418764",
         "-1.6664056131373854",
         "0.09563265356177753"
        ],
        [
         "2",
         "b_cost_TC3",
         "-0.005465598006455626",
         "0.03630081092869916",
         "-0.15056407464811106",
         "0.8803196025303719"
        ],
        [
         "3",
         "b_cost_TC4",
         "-0.03233777244224029",
         "0.02582769583834817",
         "-1.2520579708169768",
         "0.21054874101404675"
        ],
        [
         "4",
         "asc_rail",
         "0.12636688293691867",
         "0.13284648209000696",
         "0.9512249097518578",
         "0.3414902159320492"
        ]
       ],
       "shape": {
        "columns": 5,
        "rows": 5
       }
      },
      "text/html": [
       "<div>\n",
       "<style scoped>\n",
       "    .dataframe tbody tr th:only-of-type {\n",
       "        vertical-align: middle;\n",
       "    }\n",
       "\n",
       "    .dataframe tbody tr th {\n",
       "        vertical-align: top;\n",
       "    }\n",
       "\n",
       "    .dataframe thead th {\n",
       "        text-align: right;\n",
       "    }\n",
       "</style>\n",
       "<table border=\"1\" class=\"dataframe\">\n",
       "  <thead>\n",
       "    <tr style=\"text-align: right;\">\n",
       "      <th></th>\n",
       "      <th>Name</th>\n",
       "      <th>Value</th>\n",
       "      <th>Robust std err.</th>\n",
       "      <th>Robust t-stat.</th>\n",
       "      <th>Robust p-value</th>\n",
       "    </tr>\n",
       "  </thead>\n",
       "  <tbody>\n",
       "    <tr>\n",
       "      <th>0</th>\n",
       "      <td>b_cost_TC1</td>\n",
       "      <td>-0.000305</td>\n",
       "      <td>0.027794</td>\n",
       "      <td>-0.010982</td>\n",
       "      <td>0.991238</td>\n",
       "    </tr>\n",
       "    <tr>\n",
       "      <th>1</th>\n",
       "      <td>b_cost_TC2</td>\n",
       "      <td>-0.044811</td>\n",
       "      <td>0.026891</td>\n",
       "      <td>-1.666406</td>\n",
       "      <td>0.095633</td>\n",
       "    </tr>\n",
       "    <tr>\n",
       "      <th>2</th>\n",
       "      <td>b_cost_TC3</td>\n",
       "      <td>-0.005466</td>\n",
       "      <td>0.036301</td>\n",
       "      <td>-0.150564</td>\n",
       "      <td>0.880320</td>\n",
       "    </tr>\n",
       "    <tr>\n",
       "      <th>3</th>\n",
       "      <td>b_cost_TC4</td>\n",
       "      <td>-0.032338</td>\n",
       "      <td>0.025828</td>\n",
       "      <td>-1.252058</td>\n",
       "      <td>0.210549</td>\n",
       "    </tr>\n",
       "    <tr>\n",
       "      <th>4</th>\n",
       "      <td>asc_rail</td>\n",
       "      <td>0.126367</td>\n",
       "      <td>0.132846</td>\n",
       "      <td>0.951225</td>\n",
       "      <td>0.341490</td>\n",
       "    </tr>\n",
       "  </tbody>\n",
       "</table>\n",
       "</div>"
      ],
      "text/plain": [
       "         Name     Value  Robust std err.  Robust t-stat.  Robust p-value\n",
       "0  b_cost_TC1 -0.000305         0.027794       -0.010982        0.991238\n",
       "1  b_cost_TC2 -0.044811         0.026891       -1.666406        0.095633\n",
       "2  b_cost_TC3 -0.005466         0.036301       -0.150564        0.880320\n",
       "3  b_cost_TC4 -0.032338         0.025828       -1.252058        0.210549\n",
       "4    asc_rail  0.126367         0.132846        0.951225        0.341490"
      ]
     },
     "execution_count": 37,
     "metadata": {},
     "output_type": "execute_result"
    }
   ],
   "source": [
    "# Define beta values to be estimated\n",
    "## Beta('name', initial value, lower bound, upper bound, reference)\n",
    "## Reference is used to set the reference alternative in a logit model (1 = yes, 0 = no)\n",
    "asc_car = Beta('asc_car', 0, None, None, 1) #Reference alternatives\n",
    "asc_rail = Beta('asc_rail', 0, None, None, 0) \n",
    "b_cost_TC1 = Beta('b_cost_TC1', 0, None, None, 0)\n",
    "b_cost_TC2 = Beta('b_cost_TC2', 0, None, None, 0)\n",
    "b_cost_TC3 = Beta('b_cost_TC3', 0, None, None, 0)\n",
    "b_cost_TC4 = Beta('b_cost_TC4', 0, None, None, 0)\n",
    "\n",
    "# Utility functions\n",
    "V_car = (asc_car + \n",
    "         b_cost_TC1 * cost_car_TC1 +\n",
    "         b_cost_TC2 * cost_car_TC2 +\n",
    "         b_cost_TC3 * cost_car_TC3 +\n",
    "         b_cost_TC4 * cost_car_TC4\n",
    "        )\n",
    "\n",
    "V_rail = (asc_rail + \n",
    "          b_cost_TC1 * cost_rail_TC1 +\n",
    "          b_cost_TC2 * cost_rail_TC2 +\n",
    "          b_cost_TC3 * cost_rail_TC3 +\n",
    "          b_cost_TC4 * cost_rail_TC4)\n",
    "\n",
    "'''\n",
    "Remember the coding of the alternatives in the dataset:\n",
    "1: Car\n",
    "2: Rail\n",
    "''' \n",
    "\n",
    "# Dictionary defining alternatives mapping\n",
    "V = {1: V_car, 2: V_rail}\n",
    "\n",
    "# Dictionary defining availability mapping\n",
    "av = {1: av_car, 2: av_rail}\n",
    "\n",
    "# Define the choice model\n",
    "# loglogit(Alternatives mapping, Availability mapping, Choice variable)\n",
    "logprob= models.loglogit(V, av, choice)\n",
    "\n",
    "# Estimate Model\n",
    "the_biogeme = bio.BIOGEME(database, logprob)\n",
    "the_biogeme.model_name = 'Spec_Piecewise' # Set the model name\n",
    "\n",
    "#Calculate null Loglikelihood\n",
    "the_biogeme.calculate_null_loglikelihood(av)\n",
    "\n",
    "# Save the estimation results\n",
    "results = the_biogeme.estimate()\n",
    "\n",
    "#Print the results\n",
    "print(results.short_summary())\n",
    "results.get_estimated_parameters()"
   ]
  },
  {
   "cell_type": "markdown",
   "id": "875b9d38",
   "metadata": {},
   "source": [
    "#### Improved Model"
   ]
  },
  {
   "cell_type": "code",
   "execution_count": null,
   "id": "aea7fd94",
   "metadata": {},
   "outputs": [],
   "source": []
  }
 ],
 "metadata": {
  "kernelspec": {
   "display_name": "Python 3",
   "language": "python",
   "name": "python3"
  },
  "language_info": {
   "codemirror_mode": {
    "name": "ipython",
    "version": 3
   },
   "file_extension": ".py",
   "mimetype": "text/x-python",
   "name": "python",
   "nbconvert_exporter": "python",
   "pygments_lexer": "ipython3",
   "version": "3.13.2"
  }
 },
 "nbformat": 4,
 "nbformat_minor": 5
}
